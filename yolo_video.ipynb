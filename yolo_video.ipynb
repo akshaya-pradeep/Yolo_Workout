{
 "cells": [
  {
   "cell_type": "code",
   "execution_count": null,
   "metadata": {},
   "outputs": [],
   "source": [
    "import cv2\n",
    "from ultralytics import YOLO"
   ]
  },
  {
   "cell_type": "code",
   "execution_count": null,
   "metadata": {},
   "outputs": [],
   "source": [
    "model = YOLO(\"C:/Users/LENOVO/Downloads/yolov8n.pt\")"
   ]
  },
  {
   "cell_type": "code",
   "execution_count": null,
   "metadata": {},
   "outputs": [],
   "source": [
    "# video = cv2.VideoCapture(0)\n",
    "# while True:\n",
    "#   suc,img = video.read()\n",
    "#   img = cv2.flip(img,1)\n",
    "#   img_rgb = cv2.cvtColor(img,cv2.COLOR_BGR2RGB)\n",
    "#   results = model(img)\n",
    "\n",
    "#   # Draw detections on the frame\n",
    "#   # The first element (result[0]) contains the detected objects for the frame.\n",
    "#   # .plot() draws bounding boxes and labels on the frame.\n",
    "\n",
    "#   annotated_frame = results[0].plot()  \n",
    "\n",
    "#   # Display the frame\n",
    "#   cv2.imshow(\"Real-Time Detection\", annotated_frame)\n",
    "\n",
    "#   if cv2.waitKey(1) & 0XFF==ord('q'):\n",
    "#     break\n",
    "# video.release()\n",
    "# cv2.destroyAllWindows()"
   ]
  },
  {
   "cell_type": "code",
   "execution_count": null,
   "metadata": {},
   "outputs": [],
   "source": [
    "video = cv2.VideoCapture(0)\n",
    "\n",
    "while True:\n",
    "    success, img = video.read()\n",
    "\n",
    "    results = model(img)\n",
    "\n",
    "    for r in results:\n",
    "        r.save(filename = \"result.jpg\")\n",
    "\n",
    "        r = cv2.imread('result.jpg')\n",
    "    \n",
    "    cv2.imshow('Video',r)\n",
    "\n",
    "    if cv2.waitKey(1) & 0XFF == ord('q'):\n",
    "        break\n",
    "\n",
    "video.release()\n",
    "cv2.destroyAllWindows()"
   ]
  }
 ],
 "metadata": {
  "kernelspec": {
   "display_name": ".venv",
   "language": "python",
   "name": "python3"
  },
  "language_info": {
   "codemirror_mode": {
    "name": "ipython",
    "version": 3
   },
   "file_extension": ".py",
   "mimetype": "text/x-python",
   "name": "python",
   "nbconvert_exporter": "python",
   "pygments_lexer": "ipython3",
   "version": "3.12.3"
  }
 },
 "nbformat": 4,
 "nbformat_minor": 2
}
